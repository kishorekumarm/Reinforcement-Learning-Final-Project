{
 "cells": [
  {
   "cell_type": "markdown",
   "metadata": {},
   "source": [
    "# Humanoid walking simulation using kinect and reinforcement learning"
   ]
  },
  {
   "cell_type": "markdown",
   "metadata": {},
   "source": [
    "### Objective:"
   ]
  },
  {
   "cell_type": "markdown",
   "metadata": {},
   "source": [
    "To compare the simulation of humanoid walking through Deep Deterministic Policy Gradient (DDPG), Naturalized Advantage Function(NAF) and Kinect."
   ]
  },
  {
   "cell_type": "markdown",
   "metadata": {},
   "source": [
    "### Problem Type:"
   ]
  },
  {
   "cell_type": "markdown",
   "metadata": {},
   "source": [
    "Reinforcement Learning and Leveraging Vision through ** RGB-D** Sensor"
   ]
  },
  {
   "cell_type": "markdown",
   "metadata": {},
   "source": [
    "### WALKING SIMULATION"
   ]
  },
  {
   "cell_type": "markdown",
   "metadata": {},
   "source": [
    "<img src=\"stand.GIF\">"
   ]
  },
  {
   "cell_type": "markdown",
   "metadata": {},
   "source": [
    "### Method - 1 - Deep Deterministic Policy Gradient (DDPG)\n"
   ]
  },
  {
   "cell_type": "code",
   "execution_count": null,
   "metadata": {
    "collapsed": true
   },
   "outputs": [],
   "source": []
  },
  {
   "cell_type": "markdown",
   "metadata": {},
   "source": [
    "<table>\n",
    "<tr><td><b>S.No</b></td><td><b>Actor - Activation Function</b></td> <td><b>Critic - Activation Function</b></td> <td><b>Image</b></td></tr>\n",
    "<tr><td><b>1.</b></td><td\n",
    "><b>linear</b></td> <td><b>sigmoid</b></td> <td><b>Image</b></td></tr>\n",
    "<tr><td><b>2.</b></td><td\n",
    "><b>linear</b></td> <td><b>tanh</b></td> <td><b>Image</b></td></tr>\n",
    "<tr><td><b>3.</b></td><td\n",
    "><b>sigmoid</b></td> <td><b>tanh</b></td> <td><b>Image</b></td></tr>\n",
    "<tr><td><b>4.</b></td><td\n",
    "><b>tanh</b></td> <td><b>tanh</b></td> <td><b>Image</b></td></tr>\n",
    "<tr><td><b>5.</b></td><td\n",
    "><b>linear</b></td> <td><b>sigmoid</b></td> <td><b>Image</b></td></tr>\n",
    "\n",
    "</table>"
   ]
  },
  {
   "cell_type": "markdown",
   "metadata": {},
   "source": [
    "### Method - 2 - Naturalized Advantage Function (NAF)\n"
   ]
  },
  {
   "cell_type": "markdown",
   "metadata": {},
   "source": [
    "<table>\n",
    "<tr><td><b>S.No</b></td><td><b>v_model</b></td> <td><b>μ_model</b></td> <td><b>l_model</b></td> <td><b>l_model</b></td> <td><b>Image</b></td></tr>\n",
    "<tr><td><b>S.No</b></td><td><b>v_model</b></td> <td><b>μ_model</b></td> <td><b>l_model</b></td> <td><b>l_model</b></td> <td><b>Image</b></td></tr>\n",
    "<tr><td><b>S.No</b></td><td><b>v_model</b></td> <td><b>μ_model</b></td> <td><b>l_model</b></td> <td><b>l_model</b></td> <td><b>Image</b></td></tr>\n",
    "<tr><td><b>S.No</b></td><td><b>v_model</b></td> <td><b>μ_model</b></td> <td><b>l_model</b></td> <td><b>l_model</b></td> <td><b>Image</b></td></tr>\n",
    "\n",
    "\n",
    "</table>"
   ]
  },
  {
   "cell_type": "code",
   "execution_count": null,
   "metadata": {
    "collapsed": true
   },
   "outputs": [],
   "source": []
  },
  {
   "cell_type": "markdown",
   "metadata": {},
   "source": [
    "### Method - 3 - Simulation using RGB- D Sensor (Kinect)\n",
    "\n"
   ]
  },
  {
   "cell_type": "markdown",
   "metadata": {},
   "source": [
    "<table>\n",
    "<tr><td><b>Motion Capture</b></td><td><b>Walking Simulation - Front View</b></td> <td><b>Walking Simulation - Side View</b></td> </tr>\n",
    "   <tr><td><img src=\"Motion Simulation.GIF\" width=500 height=500></td><td><img src=\"Front.GIF\" width=500 height=500></td> <td><img src=\"Side.GIF\" width=500 height=500></td> </tr>"
   ]
  },
  {
   "cell_type": "markdown",
   "metadata": {},
   "source": [
    "## Steps\n",
    "* Capture markers captured via BodyBasics WPF\n",
    "* Associate markers to appropriate joints and bones in OpenSim\n",
    "* Save the associate markers as .trc file\n",
    "* Save the associated motion captured as .mot file."
   ]
  },
  {
   "cell_type": "markdown",
   "metadata": {},
   "source": [
    "## Conclusion\n",
    "* Simulation of walking through vision (RGB-D Sensor) gives us a better performance compared to the models trained via reinforcement learning."
   ]
  },
  {
   "cell_type": "markdown",
   "metadata": {},
   "source": [
    "<table width =900><tr><td><b>Network type</b></td><td><b>Accuracy</b></td><td><b>Inference</b></td></tr>\n",
    "<tr><td>Regular Net</td><td>34.92%</td><td>Performance with 1D array is low because we destroy all the features (color and 2D)</td></tr>\n",
    "<tr><td>Regular Net - After Edge detection</td><td>34.92%</td><td>Performance is same as Regular Net. Feature selection has zero impact on the performance of net</td></tr>\n",
    "<tr><td>Convolutional Neural Net</td><td>69.84%</td><td>Performance increased tremendously. Increasing number of records in training and test set will increase accuracy.</td></tr>\n",
    "</table>"
   ]
  }
 ],
 "metadata": {
  "kernelspec": {
   "display_name": "Python 2",
   "language": "python",
   "name": "python2"
  },
  "language_info": {
   "codemirror_mode": {
    "name": "ipython",
    "version": 2
   },
   "file_extension": ".py",
   "mimetype": "text/x-python",
   "name": "python",
   "nbconvert_exporter": "python",
   "pygments_lexer": "ipython2",
   "version": "2.7.13"
  }
 },
 "nbformat": 4,
 "nbformat_minor": 1
}
